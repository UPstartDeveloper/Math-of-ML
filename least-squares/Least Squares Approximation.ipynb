{
 "cells": [
  {
   "cell_type": "markdown",
   "metadata": {},
   "source": [
    "## Least Squares Approximation: Salary v. Experience"
   ]
  },
  {
   "cell_type": "markdown",
   "metadata": {},
   "source": [
    "1. Import the necessary libraries. For this assignment, we'll need `numpy`, `matplotlib.pyplot`, and `pandas`. For some of the longer module names, remember we can alias them using `as` to make their types easier to work with."
   ]
  },
  {
   "cell_type": "markdown",
   "metadata": {},
   "source": [
    "2. Open and load the CSV file `Salary_Data.csv` into a Pandas dataframe. Name the dataframe variable something unique, like 'data' or 'df'. Remember that for CSV files, there's a built-in Pandas function for reading their data."
   ]
  },
  {
   "cell_type": "markdown",
   "metadata": {},
   "source": [
    "3. Use the dataframe you created to print the first 5 items (the 'head') to the output. Utilize Pandas' built-in functions for this!"
   ]
  },
  {
   "cell_type": "markdown",
   "metadata": {},
   "source": [
    "4. Create a scatter plot using the Pandas dataframe. Make the X-axis years of experience, and the Y-axis the corresponding salary. Output the result. If you've done everything up to this point correctly, it should look like the following image:\n",
    "\n",
    "    ![](o1.png)"
   ]
  },
  {
   "cell_type": "markdown",
   "metadata": {},
   "source": [
    "5. Implement the Least Squares approximation, to find a straight line that best approximates the data we've been provided with and plotted in the previous question. We'll be implementing this system manually - you're **not** allowed to use an external library like `numpy.linalg` to solve. You will, however, want to use the `numpy` constructions for numbers and matrices we already imported to manipulate your data.\n",
    "\n",
    "    > As a refresher, the Least Squares Approximation finds values $\\theta_0, \\theta_1$ such that $y = \\theta_0 + \\theta_1x$ is an accurate approximation of the trend of the data provided.\n",
    "    > \n",
    "    > In matrix form:\n",
    "    > $$A = [1 , X]$$\n",
    "    > \n",
    "    > $A$ can be thought of as a column of $1$'s and a column of sample $x$ values. Then, we define $\\theta$ as:\n",
    "    > \n",
    "    > $$\\theta = [\\theta_0, \\theta_1]^t$$\n",
    "    > \n",
    "    > So $b = A \\theta$\n",
    "    > \n",
    "    > To find the approximate result, we can use the pseudo-inverse of $A$:\n",
    "    > $$\\theta = [(A^t A)^{(-1)} A^t] b$$"
   ]
  },
  {
   "cell_type": "markdown",
   "metadata": {},
   "source": [
    "6. On top of the scatter plot you created in part **4**, we now want to use our calculated $\\theta$ to draw our approximate linear regression onto the plot surface. Start with the plot from earlier, and then use the `matplotlib.pyplot.plot` function to plot the predicted line from an array of $x_{pred}$ and $y_{pred}$ predictions. You'll need to likely compute $A$ for each section of the line in order to compute $y=A \\cdot \\theta$ for a given point - think about how you can use Numpy and matrices to calculate all of the points in the line at once!\n",
    "\n",
    "    If you've correctly set up your linear regression, as the end result you should see something that looks like this:\n",
    "\n",
    "    ![](o2.png)"
   ]
  }
 ],
 "metadata": {
  "kernelspec": {
   "display_name": "Python 3.10.4 ('559')",
   "language": "python",
   "name": "python3"
  },
  "language_info": {
   "codemirror_mode": {
    "name": "ipython",
    "version": 3
   },
   "file_extension": ".py",
   "mimetype": "text/x-python",
   "name": "python",
   "nbconvert_exporter": "python",
   "pygments_lexer": "ipython3",
   "version": "3.10.4"
  },
  "vscode": {
   "interpreter": {
    "hash": "814950ec8b8c7032d23fac38b059fcb51ad391395255f22f9a4e55af65449f0a"
   }
  }
 },
 "nbformat": 4,
 "nbformat_minor": 4
}
